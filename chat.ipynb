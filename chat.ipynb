{
  "nbformat": 4,
  "nbformat_minor": 0,
  "metadata": {
    "colab": {
      "provenance": [],
      "authorship_tag": "ABX9TyMTWO5vthMk1gZfEvCDObcG",
      "include_colab_link": true
    },
    "kernelspec": {
      "name": "python3",
      "display_name": "Python 3"
    },
    "language_info": {
      "name": "python"
    }
  },
  "cells": [
    {
      "cell_type": "markdown",
      "metadata": {
        "id": "view-in-github",
        "colab_type": "text"
      },
      "source": [
        "<a href=\"https://colab.research.google.com/github/amine-76/ChatBox/blob/main/chat.ipynb\" target=\"_parent\"><img src=\"https://colab.research.google.com/assets/colab-badge.svg\" alt=\"Open In Colab\"/></a>"
      ]
    },
    {
      "cell_type": "code",
      "execution_count": 8,
      "metadata": {
        "colab": {
          "base_uri": "https://localhost:8080/"
        },
        "id": "zegHuzmwrKMh",
        "outputId": "854c3eac-410c-43aa-e4b5-72d53e99407a"
      },
      "outputs": [
        {
          "name": "stdout",
          "output_type": "stream",
          "text": [
            "💬 Chatbot activé ! (Tape 'exit' pour quitter)\n",
            "👤 Toi : Tu sais ce que l'on dit en algérie ? \n",
            "🤖 Chatbot :  Je réponds à tes questions avec plaisir.\n",
            "👤 Toi : Veste \n",
            "🤖 Chatbot :  Veste Imperméable\n",
            "👤 Toi : Veste ? \n",
            "🤖 Chatbot :  Veste Imperméable\n",
            "👤 Toi : python ? \n",
            "🤖 Chatbot :  Désoler, je ne comprends pas votre question.\n",
            "👤 Toi : programmation \n",
            "🤖 Chatbot :  Je suis écrit en Python !\n",
            "👤 Toi : exit\n"
          ]
        }
      ],
      "source": [
        "import numpy as np\n",
        "import json\n",
        "import pandas as pd\n",
        "import nltk\n",
        "from sklearn.feature_extraction.text import TfidfVectorizer\n",
        "from sklearn.metrics.pairwise import cosine_similarity\n",
        "\n",
        "\n",
        "with open(\"data.json\",\"r\",encoding=\"utf-8\") as f:\n",
        "    data= json.load(f)\n",
        "\n",
        "question = list(data.keys())\n",
        "answer = list(data.values())\n",
        "\n",
        "vectorizer = TfidfVectorizer()\n",
        "X = vectorizer.fit_transform(question)\n",
        "\n",
        "def get_response(user_input):\n",
        "    user_input = user_input.lower()\n",
        "    user_vector = vectorizer.transform([user_input])\n",
        "    similarities = cosine_similarity(user_vector,X)\n",
        "    best_match_index = np.argmax(similarities)\n",
        "    confidence = similarities[0,best_match_index]\n",
        "\n",
        "    if confidence < 0.3:\n",
        "      return \"Désoler, je ne comprends pas votre question.\"\n",
        "    else:\n",
        "      return answer[best_match_index]\n",
        "\n",
        "print(\"💬 Chatbot activé ! (Tape 'exit' pour quitter)\")\n",
        "\n",
        "while True :\n",
        "  user_input = input(\"👤 Toi : \")\n",
        "  if user_input.lower() == \"exit\":\n",
        "    break\n",
        "  response = get_response(user_input)\n",
        "  print(\"🤖 Chatbot : \",response)\n",
        "\n"
      ]
    }
  ]
}